{
 "cells": [
  {
   "cell_type": "code",
   "execution_count": 1,
   "metadata": {
    "ExecuteTime": {
     "end_time": "2020-07-17T20:16:02.735579Z",
     "start_time": "2020-07-17T20:16:01.344856Z"
    }
   },
   "outputs": [
    {
     "data": {
      "text/html": [
       "<div>\n",
       "<style scoped>\n",
       "    .dataframe tbody tr th:only-of-type {\n",
       "        vertical-align: middle;\n",
       "    }\n",
       "\n",
       "    .dataframe tbody tr th {\n",
       "        vertical-align: top;\n",
       "    }\n",
       "\n",
       "    .dataframe thead th {\n",
       "        text-align: right;\n",
       "    }\n",
       "</style>\n",
       "<table border=\"1\" class=\"dataframe\">\n",
       "  <thead>\n",
       "    <tr style=\"text-align: right;\">\n",
       "      <th></th>\n",
       "      <th>id</th>\n",
       "      <th>date</th>\n",
       "      <th>price</th>\n",
       "      <th>bedrooms</th>\n",
       "      <th>bathrooms</th>\n",
       "      <th>sqft_living</th>\n",
       "      <th>sqft_lot</th>\n",
       "      <th>floors</th>\n",
       "      <th>waterfront</th>\n",
       "      <th>view</th>\n",
       "      <th>...</th>\n",
       "      <th>grade</th>\n",
       "      <th>sqft_above</th>\n",
       "      <th>sqft_basement</th>\n",
       "      <th>yr_built</th>\n",
       "      <th>yr_renovated</th>\n",
       "      <th>zipcode</th>\n",
       "      <th>lat</th>\n",
       "      <th>long</th>\n",
       "      <th>sqft_living15</th>\n",
       "      <th>sqft_lot15</th>\n",
       "    </tr>\n",
       "  </thead>\n",
       "  <tbody>\n",
       "    <tr>\n",
       "      <th>0</th>\n",
       "      <td>7129300520</td>\n",
       "      <td>10/13/2014</td>\n",
       "      <td>221900.0</td>\n",
       "      <td>3</td>\n",
       "      <td>1.00</td>\n",
       "      <td>1180</td>\n",
       "      <td>5650</td>\n",
       "      <td>1.0</td>\n",
       "      <td>NaN</td>\n",
       "      <td>0.0</td>\n",
       "      <td>...</td>\n",
       "      <td>7</td>\n",
       "      <td>1180</td>\n",
       "      <td>0.0</td>\n",
       "      <td>1955</td>\n",
       "      <td>0.0</td>\n",
       "      <td>98178</td>\n",
       "      <td>47.5112</td>\n",
       "      <td>-122.257</td>\n",
       "      <td>1340</td>\n",
       "      <td>5650</td>\n",
       "    </tr>\n",
       "    <tr>\n",
       "      <th>1</th>\n",
       "      <td>6414100192</td>\n",
       "      <td>12/9/2014</td>\n",
       "      <td>538000.0</td>\n",
       "      <td>3</td>\n",
       "      <td>2.25</td>\n",
       "      <td>2570</td>\n",
       "      <td>7242</td>\n",
       "      <td>2.0</td>\n",
       "      <td>0.0</td>\n",
       "      <td>0.0</td>\n",
       "      <td>...</td>\n",
       "      <td>7</td>\n",
       "      <td>2170</td>\n",
       "      <td>400.0</td>\n",
       "      <td>1951</td>\n",
       "      <td>1991.0</td>\n",
       "      <td>98125</td>\n",
       "      <td>47.7210</td>\n",
       "      <td>-122.319</td>\n",
       "      <td>1690</td>\n",
       "      <td>7639</td>\n",
       "    </tr>\n",
       "    <tr>\n",
       "      <th>2</th>\n",
       "      <td>5631500400</td>\n",
       "      <td>2/25/2015</td>\n",
       "      <td>180000.0</td>\n",
       "      <td>2</td>\n",
       "      <td>1.00</td>\n",
       "      <td>770</td>\n",
       "      <td>10000</td>\n",
       "      <td>1.0</td>\n",
       "      <td>0.0</td>\n",
       "      <td>0.0</td>\n",
       "      <td>...</td>\n",
       "      <td>6</td>\n",
       "      <td>770</td>\n",
       "      <td>0.0</td>\n",
       "      <td>1933</td>\n",
       "      <td>NaN</td>\n",
       "      <td>98028</td>\n",
       "      <td>47.7379</td>\n",
       "      <td>-122.233</td>\n",
       "      <td>2720</td>\n",
       "      <td>8062</td>\n",
       "    </tr>\n",
       "    <tr>\n",
       "      <th>3</th>\n",
       "      <td>2487200875</td>\n",
       "      <td>12/9/2014</td>\n",
       "      <td>604000.0</td>\n",
       "      <td>4</td>\n",
       "      <td>3.00</td>\n",
       "      <td>1960</td>\n",
       "      <td>5000</td>\n",
       "      <td>1.0</td>\n",
       "      <td>0.0</td>\n",
       "      <td>0.0</td>\n",
       "      <td>...</td>\n",
       "      <td>7</td>\n",
       "      <td>1050</td>\n",
       "      <td>910.0</td>\n",
       "      <td>1965</td>\n",
       "      <td>0.0</td>\n",
       "      <td>98136</td>\n",
       "      <td>47.5208</td>\n",
       "      <td>-122.393</td>\n",
       "      <td>1360</td>\n",
       "      <td>5000</td>\n",
       "    </tr>\n",
       "    <tr>\n",
       "      <th>4</th>\n",
       "      <td>1954400510</td>\n",
       "      <td>2/18/2015</td>\n",
       "      <td>510000.0</td>\n",
       "      <td>3</td>\n",
       "      <td>2.00</td>\n",
       "      <td>1680</td>\n",
       "      <td>8080</td>\n",
       "      <td>1.0</td>\n",
       "      <td>0.0</td>\n",
       "      <td>0.0</td>\n",
       "      <td>...</td>\n",
       "      <td>8</td>\n",
       "      <td>1680</td>\n",
       "      <td>0.0</td>\n",
       "      <td>1987</td>\n",
       "      <td>0.0</td>\n",
       "      <td>98074</td>\n",
       "      <td>47.6168</td>\n",
       "      <td>-122.045</td>\n",
       "      <td>1800</td>\n",
       "      <td>7503</td>\n",
       "    </tr>\n",
       "  </tbody>\n",
       "</table>\n",
       "<p>5 rows × 21 columns</p>\n",
       "</div>"
      ],
      "text/plain": [
       "           id        date     price  bedrooms  bathrooms  sqft_living  \\\n",
       "0  7129300520  10/13/2014  221900.0         3       1.00         1180   \n",
       "1  6414100192   12/9/2014  538000.0         3       2.25         2570   \n",
       "2  5631500400   2/25/2015  180000.0         2       1.00          770   \n",
       "3  2487200875   12/9/2014  604000.0         4       3.00         1960   \n",
       "4  1954400510   2/18/2015  510000.0         3       2.00         1680   \n",
       "\n",
       "   sqft_lot  floors  waterfront  view  ...  grade  sqft_above  sqft_basement  \\\n",
       "0      5650     1.0         NaN   0.0  ...      7        1180            0.0   \n",
       "1      7242     2.0         0.0   0.0  ...      7        2170          400.0   \n",
       "2     10000     1.0         0.0   0.0  ...      6         770            0.0   \n",
       "3      5000     1.0         0.0   0.0  ...      7        1050          910.0   \n",
       "4      8080     1.0         0.0   0.0  ...      8        1680            0.0   \n",
       "\n",
       "  yr_built  yr_renovated  zipcode      lat     long  sqft_living15  sqft_lot15  \n",
       "0     1955           0.0    98178  47.5112 -122.257           1340        5650  \n",
       "1     1951        1991.0    98125  47.7210 -122.319           1690        7639  \n",
       "2     1933           NaN    98028  47.7379 -122.233           2720        8062  \n",
       "3     1965           0.0    98136  47.5208 -122.393           1360        5000  \n",
       "4     1987           0.0    98074  47.6168 -122.045           1800        7503  \n",
       "\n",
       "[5 rows x 21 columns]"
      ]
     },
     "execution_count": 1,
     "metadata": {},
     "output_type": "execute_result"
    }
   ],
   "source": [
    "import pandas as pd\n",
    "import numpy as np\n",
    "import seaborn as sns\n",
    "import matplotlib.pyplot as plt\n",
    "%matplotlib inline\n",
    "\n",
    "sns.set_style('darkgrid')\n",
    "\n",
    "import warnings\n",
    "warnings.filterwarnings(\"ignore\")\n",
    "\n",
    "df = pd.read_csv('kc_house_data.csv')\n",
    "df.head()"
   ]
  },
  {
   "cell_type": "code",
   "execution_count": 2,
   "metadata": {
    "ExecuteTime": {
     "end_time": "2020-07-17T20:16:02.746614Z",
     "start_time": "2020-07-17T20:16:02.737957Z"
    }
   },
   "outputs": [
    {
     "data": {
      "text/plain": [
       "id                  0\n",
       "date                0\n",
       "price               0\n",
       "bedrooms            0\n",
       "bathrooms           0\n",
       "sqft_living         0\n",
       "sqft_lot            0\n",
       "floors              0\n",
       "waterfront       2376\n",
       "view               63\n",
       "condition           0\n",
       "grade               0\n",
       "sqft_above          0\n",
       "sqft_basement       0\n",
       "yr_built            0\n",
       "yr_renovated     3842\n",
       "zipcode             0\n",
       "lat                 0\n",
       "long                0\n",
       "sqft_living15       0\n",
       "sqft_lot15          0\n",
       "dtype: int64"
      ]
     },
     "execution_count": 2,
     "metadata": {},
     "output_type": "execute_result"
    }
   ],
   "source": [
    "df.isna().sum()"
   ]
  },
  {
   "cell_type": "code",
   "execution_count": 3,
   "metadata": {
    "ExecuteTime": {
     "end_time": "2020-07-17T20:16:02.755237Z",
     "start_time": "2020-07-17T20:16:02.748227Z"
    }
   },
   "outputs": [],
   "source": [
    "df_dropped_null = df.dropna(axis=0, subset=['view', 'yr_renovated', 'waterfront'])"
   ]
  },
  {
   "cell_type": "code",
   "execution_count": 4,
   "metadata": {
    "ExecuteTime": {
     "end_time": "2020-07-17T20:16:02.765791Z",
     "start_time": "2020-07-17T20:16:02.757312Z"
    }
   },
   "outputs": [
    {
     "name": "stdout",
     "output_type": "stream",
     "text": [
      "<class 'pandas.core.frame.DataFrame'>\n",
      "Int64Index: 15762 entries, 1 to 21596\n",
      "Data columns (total 21 columns):\n",
      "id               15762 non-null int64\n",
      "date             15762 non-null object\n",
      "price            15762 non-null float64\n",
      "bedrooms         15762 non-null int64\n",
      "bathrooms        15762 non-null float64\n",
      "sqft_living      15762 non-null int64\n",
      "sqft_lot         15762 non-null int64\n",
      "floors           15762 non-null float64\n",
      "waterfront       15762 non-null float64\n",
      "view             15762 non-null float64\n",
      "condition        15762 non-null int64\n",
      "grade            15762 non-null int64\n",
      "sqft_above       15762 non-null int64\n",
      "sqft_basement    15762 non-null object\n",
      "yr_built         15762 non-null int64\n",
      "yr_renovated     15762 non-null float64\n",
      "zipcode          15762 non-null int64\n",
      "lat              15762 non-null float64\n",
      "long             15762 non-null float64\n",
      "sqft_living15    15762 non-null int64\n",
      "sqft_lot15       15762 non-null int64\n",
      "dtypes: float64(8), int64(11), object(2)\n",
      "memory usage: 2.6+ MB\n"
     ]
    }
   ],
   "source": [
    "df_dropped_null.info()"
   ]
  },
  {
   "cell_type": "code",
   "execution_count": 5,
   "metadata": {
    "ExecuteTime": {
     "end_time": "2020-07-17T20:16:02.772840Z",
     "start_time": "2020-07-17T20:16:02.767141Z"
    }
   },
   "outputs": [],
   "source": [
    "df_dropped_null = df_dropped_null.drop(['sqft_basement', 'zipcode', 'date', 'id'], axis = 1)"
   ]
  },
  {
   "cell_type": "code",
   "execution_count": 6,
   "metadata": {
    "ExecuteTime": {
     "end_time": "2020-07-17T20:16:02.783370Z",
     "start_time": "2020-07-17T20:16:02.774844Z"
    }
   },
   "outputs": [
    {
     "name": "stdout",
     "output_type": "stream",
     "text": [
      "<class 'pandas.core.frame.DataFrame'>\n",
      "Int64Index: 15762 entries, 1 to 21596\n",
      "Data columns (total 17 columns):\n",
      "price            15762 non-null float64\n",
      "bedrooms         15762 non-null int64\n",
      "bathrooms        15762 non-null float64\n",
      "sqft_living      15762 non-null int64\n",
      "sqft_lot         15762 non-null int64\n",
      "floors           15762 non-null float64\n",
      "waterfront       15762 non-null float64\n",
      "view             15762 non-null float64\n",
      "condition        15762 non-null int64\n",
      "grade            15762 non-null int64\n",
      "sqft_above       15762 non-null int64\n",
      "yr_built         15762 non-null int64\n",
      "yr_renovated     15762 non-null float64\n",
      "lat              15762 non-null float64\n",
      "long             15762 non-null float64\n",
      "sqft_living15    15762 non-null int64\n",
      "sqft_lot15       15762 non-null int64\n",
      "dtypes: float64(8), int64(9)\n",
      "memory usage: 2.2 MB\n"
     ]
    }
   ],
   "source": [
    "df_dropped_null.info()"
   ]
  },
  {
   "cell_type": "markdown",
   "metadata": {},
   "source": [
    "### Direct data model"
   ]
  },
  {
   "cell_type": "code",
   "execution_count": 7,
   "metadata": {
    "ExecuteTime": {
     "end_time": "2020-07-17T20:16:03.299546Z",
     "start_time": "2020-07-17T20:16:02.785234Z"
    }
   },
   "outputs": [
    {
     "name": "stdout",
     "output_type": "stream",
     "text": [
      "0.6896186716202697\n"
     ]
    }
   ],
   "source": [
    "from sklearn.linear_model import LinearRegression\n",
    "\n",
    "y = df_dropped_null['price']\n",
    "X = df_dropped_null.drop(['price'], axis = 1)\n",
    "linreg = LinearRegression(fit_intercept = False)\n",
    "linreg.fit(X, y)\n",
    "print(linreg.score(X, y))"
   ]
  },
  {
   "cell_type": "code",
   "execution_count": 8,
   "metadata": {
    "ExecuteTime": {
     "end_time": "2020-07-17T20:16:03.311264Z",
     "start_time": "2020-07-17T20:16:03.304240Z"
    }
   },
   "outputs": [],
   "source": [
    "y_predicted = linreg.predict(X)"
   ]
  },
  {
   "cell_type": "code",
   "execution_count": 9,
   "metadata": {
    "ExecuteTime": {
     "end_time": "2020-07-17T20:16:03.334333Z",
     "start_time": "2020-07-17T20:16:03.315679Z"
    }
   },
   "outputs": [],
   "source": [
    "residuals = y - y_predicted"
   ]
  },
  {
   "cell_type": "code",
   "execution_count": 10,
   "metadata": {
    "ExecuteTime": {
     "end_time": "2020-07-17T20:16:03.791849Z",
     "start_time": "2020-07-17T20:16:03.337053Z"
    },
    "scrolled": true
   },
   "outputs": [
    {
     "data": {
      "image/png": "[encoded data removed]",
      "text/plain": [
       "<Figure size 432x288 with 1 Axes>"
      ]
     },
     "metadata": {
      "needs_background": "light"
     },
     "output_type": "display_data"
    }
   ],
   "source": [
    "from scipy.stats import probplot\n",
    "\n",
    "_ = probplot(residuals, plot=plt)"
   ]
  },
  {
   "cell_type": "markdown",
   "metadata": {},
   "source": [
    "### Data is log transformed"
   ]
  },
  {
   "cell_type": "code",
   "execution_count": 11,
   "metadata": {
    "ExecuteTime": {
     "end_time": "2020-07-17T20:16:03.799454Z",
     "start_time": "2020-07-17T20:16:03.794915Z"
    }
   },
   "outputs": [],
   "source": [
    "df_log = df_dropped_null.copy()"
   ]
  },
  {
   "cell_type": "code",
   "execution_count": 12,
   "metadata": {
    "ExecuteTime": {
     "end_time": "2020-07-17T20:16:03.818708Z",
     "start_time": "2020-07-17T20:16:03.802625Z"
    }
   },
   "outputs": [],
   "source": [
    "log_sqft_living = np.log(df_dropped_null['sqft_living'])\n",
    "log_sqft_lot = np.log(df_dropped_null['sqft_lot'])\n",
    "log_sqft_above = np.log(df_dropped_null['sqft_above'])\n",
    "log_sqft_living15 = np.log(df_dropped_null['sqft_living15'])\n",
    "log_sqft_lot15 = np.log(df_dropped_null['sqft_lot15'])\n",
    "\n",
    "logs = ['log_sqft_above', 'log_sqft_living', 'log_sqft_living15' , 'log_sqft_lot', 'log_sqft_lot15']\n",
    "\n",
    "df_log['log_sqft_above'] = log_sqft_above\n",
    "df_log['log_sqft_living'] = log_sqft_living\n",
    "df_log['log_sqft_living15'] = log_sqft_living15\n",
    "df_log['log_sqft_lot'] = log_sqft_lot\n",
    "df_log['log_sqft_lot15'] = log_sqft_lot15"
   ]
  },
  {
   "cell_type": "code",
   "execution_count": 13,
   "metadata": {
    "ExecuteTime": {
     "end_time": "2020-07-17T20:16:03.858684Z",
     "start_time": "2020-07-17T20:16:03.824170Z"
    }
   },
   "outputs": [
    {
     "data": {
      "text/html": [
       "<div>\n",
       "<style scoped>\n",
       "    .dataframe tbody tr th:only-of-type {\n",
       "        vertical-align: middle;\n",
       "    }\n",
       "\n",
       "    .dataframe tbody tr th {\n",
       "        vertical-align: top;\n",
       "    }\n",
       "\n",
       "    .dataframe thead th {\n",
       "        text-align: right;\n",
       "    }\n",
       "</style>\n",
       "<table border=\"1\" class=\"dataframe\">\n",
       "  <thead>\n",
       "    <tr style=\"text-align: right;\">\n",
       "      <th></th>\n",
       "      <th>bedrooms</th>\n",
       "      <th>bathrooms</th>\n",
       "      <th>floors</th>\n",
       "      <th>waterfront</th>\n",
       "      <th>view</th>\n",
       "      <th>condition</th>\n",
       "      <th>grade</th>\n",
       "      <th>yr_built</th>\n",
       "      <th>yr_renovated</th>\n",
       "      <th>lat</th>\n",
       "      <th>long</th>\n",
       "      <th>log_sqft_above</th>\n",
       "      <th>log_sqft_living</th>\n",
       "      <th>log_sqft_living15</th>\n",
       "      <th>log_sqft_lot</th>\n",
       "      <th>log_sqft_lot15</th>\n",
       "    </tr>\n",
       "  </thead>\n",
       "  <tbody>\n",
       "    <tr>\n",
       "      <th>1</th>\n",
       "      <td>3</td>\n",
       "      <td>2.25</td>\n",
       "      <td>2.0</td>\n",
       "      <td>0.0</td>\n",
       "      <td>0.0</td>\n",
       "      <td>3</td>\n",
       "      <td>7</td>\n",
       "      <td>1951</td>\n",
       "      <td>1991.0</td>\n",
       "      <td>47.7210</td>\n",
       "      <td>-122.319</td>\n",
       "      <td>7.682482</td>\n",
       "      <td>7.851661</td>\n",
       "      <td>7.432484</td>\n",
       "      <td>8.887653</td>\n",
       "      <td>8.941022</td>\n",
       "    </tr>\n",
       "    <tr>\n",
       "      <th>3</th>\n",
       "      <td>4</td>\n",
       "      <td>3.00</td>\n",
       "      <td>1.0</td>\n",
       "      <td>0.0</td>\n",
       "      <td>0.0</td>\n",
       "      <td>5</td>\n",
       "      <td>7</td>\n",
       "      <td>1965</td>\n",
       "      <td>0.0</td>\n",
       "      <td>47.5208</td>\n",
       "      <td>-122.393</td>\n",
       "      <td>6.956545</td>\n",
       "      <td>7.580700</td>\n",
       "      <td>7.215240</td>\n",
       "      <td>8.517193</td>\n",
       "      <td>8.517193</td>\n",
       "    </tr>\n",
       "    <tr>\n",
       "      <th>4</th>\n",
       "      <td>3</td>\n",
       "      <td>2.00</td>\n",
       "      <td>1.0</td>\n",
       "      <td>0.0</td>\n",
       "      <td>0.0</td>\n",
       "      <td>3</td>\n",
       "      <td>8</td>\n",
       "      <td>1987</td>\n",
       "      <td>0.0</td>\n",
       "      <td>47.6168</td>\n",
       "      <td>-122.045</td>\n",
       "      <td>7.426549</td>\n",
       "      <td>7.426549</td>\n",
       "      <td>7.495542</td>\n",
       "      <td>8.997147</td>\n",
       "      <td>8.923058</td>\n",
       "    </tr>\n",
       "    <tr>\n",
       "      <th>5</th>\n",
       "      <td>4</td>\n",
       "      <td>4.50</td>\n",
       "      <td>1.0</td>\n",
       "      <td>0.0</td>\n",
       "      <td>0.0</td>\n",
       "      <td>3</td>\n",
       "      <td>11</td>\n",
       "      <td>2001</td>\n",
       "      <td>0.0</td>\n",
       "      <td>47.6561</td>\n",
       "      <td>-122.005</td>\n",
       "      <td>8.266164</td>\n",
       "      <td>8.597851</td>\n",
       "      <td>8.468003</td>\n",
       "      <td>11.532042</td>\n",
       "      <td>11.532042</td>\n",
       "    </tr>\n",
       "    <tr>\n",
       "      <th>6</th>\n",
       "      <td>3</td>\n",
       "      <td>2.25</td>\n",
       "      <td>2.0</td>\n",
       "      <td>0.0</td>\n",
       "      <td>0.0</td>\n",
       "      <td>3</td>\n",
       "      <td>7</td>\n",
       "      <td>1995</td>\n",
       "      <td>0.0</td>\n",
       "      <td>47.3097</td>\n",
       "      <td>-122.327</td>\n",
       "      <td>7.447168</td>\n",
       "      <td>7.447168</td>\n",
       "      <td>7.713338</td>\n",
       "      <td>8.827468</td>\n",
       "      <td>8.827468</td>\n",
       "    </tr>\n",
       "  </tbody>\n",
       "</table>\n",
       "</div>"
      ],
      "text/plain": [
       "   bedrooms  bathrooms  floors  waterfront  view  condition  grade  yr_built  \\\n",
       "1         3       2.25     2.0         0.0   0.0          3      7      1951   \n",
       "3         4       3.00     1.0         0.0   0.0          5      7      1965   \n",
       "4         3       2.00     1.0         0.0   0.0          3      8      1987   \n",
       "5         4       4.50     1.0         0.0   0.0          3     11      2001   \n",
       "6         3       2.25     2.0         0.0   0.0          3      7      1995   \n",
       "\n",
       "   yr_renovated      lat     long  log_sqft_above  log_sqft_living  \\\n",
       "1        1991.0  47.7210 -122.319        7.682482         7.851661   \n",
       "3           0.0  47.5208 -122.393        6.956545         7.580700   \n",
       "4           0.0  47.6168 -122.045        7.426549         7.426549   \n",
       "5           0.0  47.6561 -122.005        8.266164         8.597851   \n",
       "6           0.0  47.3097 -122.327        7.447168         7.447168   \n",
       "\n",
       "   log_sqft_living15  log_sqft_lot  log_sqft_lot15  \n",
       "1           7.432484      8.887653        8.941022  \n",
       "3           7.215240      8.517193        8.517193  \n",
       "4           7.495542      8.997147        8.923058  \n",
       "5           8.468003     11.532042       11.532042  \n",
       "6           7.713338      8.827468        8.827468  "
      ]
     },
     "execution_count": 13,
     "metadata": {},
     "output_type": "execute_result"
    }
   ],
   "source": [
    "y_log = df_log['price']\n",
    "X_log = df_log.drop(['price', 'sqft_living', 'sqft_lot', 'sqft_above', 'sqft_living15', 'sqft_lot15'], axis = 1)\n",
    "X_log.head()"
   ]
  },
  {
   "cell_type": "code",
   "execution_count": 14,
   "metadata": {
    "ExecuteTime": {
     "end_time": "2020-07-17T20:16:03.879583Z",
     "start_time": "2020-07-17T20:16:03.860353Z"
    }
   },
   "outputs": [
    {
     "name": "stdout",
     "output_type": "stream",
     "text": [
      "0.6523257988041432\n"
     ]
    }
   ],
   "source": [
    "linreg_log = LinearRegression(fit_intercept = False)\n",
    "linreg_log.fit(X_log, y_log)\n",
    "print(linreg_log.score(X_log, y_log))"
   ]
  },
  {
   "cell_type": "code",
   "execution_count": 25,
   "metadata": {
    "ExecuteTime": {
     "end_time": "2020-07-17T20:17:22.833996Z",
     "start_time": "2020-07-17T20:17:22.829054Z"
    }
   },
   "outputs": [
    {
     "data": {
      "text/plain": [
       "(15762,)"
      ]
     },
     "execution_count": 25,
     "metadata": {},
     "output_type": "execute_result"
    }
   ],
   "source": [
    "y_log.shape"
   ]
  },
  {
   "cell_type": "code",
   "execution_count": 16,
   "metadata": {
    "ExecuteTime": {
     "end_time": "2020-07-17T20:16:03.911983Z",
     "start_time": "2020-07-17T20:16:03.900093Z"
    }
   },
   "outputs": [
    {
     "data": {
      "text/plain": [
       "array([627747.4734907 , 489735.88094198, 545706.15761267, ...,\n",
       "       415201.24173594,  66676.88018155,  78487.67936997])"
      ]
     },
     "execution_count": 16,
     "metadata": {},
     "output_type": "execute_result"
    }
   ],
   "source": [
    "y_predicted_log = linreg_log.predict(X_log)\n",
    "y_predicted_log"
   ]
  },
  {
   "cell_type": "code",
   "execution_count": 17,
   "metadata": {
    "ExecuteTime": {
     "end_time": "2020-07-17T20:16:03.927631Z",
     "start_time": "2020-07-17T20:16:03.915172Z"
    }
   },
   "outputs": [
    {
     "data": {
      "text/plain": [
       "-21.34527167087406"
      ]
     },
     "execution_count": 17,
     "metadata": {},
     "output_type": "execute_result"
    }
   ],
   "source": [
    "residuals_log = y_log - y_predicted_log\n",
    "residuals_log.mean()"
   ]
  },
  {
   "cell_type": "code",
   "execution_count": 18,
   "metadata": {
    "ExecuteTime": {
     "end_time": "2020-07-17T20:16:04.317982Z",
     "start_time": "2020-07-17T20:16:03.931013Z"
    }
   },
   "outputs": [
    {
     "data": {
      "image/png": "[encoded data removed]",
      "text/plain": [
       "<Figure size 432x288 with 1 Axes>"
      ]
     },
     "metadata": {
      "needs_background": "light"
     },
     "output_type": "display_data"
    }
   ],
   "source": [
    "_ = probplot(residuals_log, plot=plt)"
   ]
  },
  {
   "cell_type": "markdown",
   "metadata": {},
   "source": [
    "### Outliers are removed"
   ]
  },
  {
   "cell_type": "code",
   "execution_count": 32,
   "metadata": {
    "ExecuteTime": {
     "end_time": "2020-07-17T20:21:13.763076Z",
     "start_time": "2020-07-17T20:21:13.752706Z"
    }
   },
   "outputs": [],
   "source": [
    "import scipy.stats as stats\n",
    "z_scores = stats.zscore(df_log)\n",
    "\n",
    "abs_z_scores = np.abs(z_scores)\n",
    "filtered_entries = (abs_z_scores < 3).all(axis=1)\n",
    "new_df = df_log[filtered_entries]"
   ]
  },
  {
   "cell_type": "code",
   "execution_count": 33,
   "metadata": {
    "ExecuteTime": {
     "end_time": "2020-07-17T20:21:14.869496Z",
     "start_time": "2020-07-17T20:21:14.861446Z"
    }
   },
   "outputs": [
    {
     "name": "stdout",
     "output_type": "stream",
     "text": [
      "<class 'pandas.core.frame.DataFrame'>\n",
      "Int64Index: 13685 entries, 3 to 21596\n",
      "Data columns (total 22 columns):\n",
      "price                13685 non-null float64\n",
      "bedrooms             13685 non-null int64\n",
      "bathrooms            13685 non-null float64\n",
      "sqft_living          13685 non-null int64\n",
      "sqft_lot             13685 non-null int64\n",
      "floors               13685 non-null float64\n",
      "waterfront           13685 non-null float64\n",
      "view                 13685 non-null float64\n",
      "condition            13685 non-null int64\n",
      "grade                13685 non-null int64\n",
      "sqft_above           13685 non-null int64\n",
      "yr_built             13685 non-null int64\n",
      "yr_renovated         13685 non-null float64\n",
      "lat                  13685 non-null float64\n",
      "long                 13685 non-null float64\n",
      "sqft_living15        13685 non-null int64\n",
      "sqft_lot15           13685 non-null int64\n",
      "log_sqft_above       13685 non-null float64\n",
      "log_sqft_living      13685 non-null float64\n",
      "log_sqft_living15    13685 non-null float64\n",
      "log_sqft_lot         13685 non-null float64\n",
      "log_sqft_lot15       13685 non-null float64\n",
      "dtypes: float64(13), int64(9)\n",
      "memory usage: 2.4 MB\n"
     ]
    }
   ],
   "source": [
    "new_df.info()"
   ]
  },
  {
   "cell_type": "code",
   "execution_count": 34,
   "metadata": {
    "ExecuteTime": {
     "end_time": "2020-07-17T20:21:15.986918Z",
     "start_time": "2020-07-17T20:21:15.979555Z"
    }
   },
   "outputs": [],
   "source": [
    "y_log_no_out = new_df['price']\n",
    "X_log_no_out = new_df.drop(['price'], axis = 1)"
   ]
  },
  {
   "cell_type": "code",
   "execution_count": 35,
   "metadata": {
    "ExecuteTime": {
     "end_time": "2020-07-17T20:21:21.096934Z",
     "start_time": "2020-07-17T20:21:21.093388Z"
    }
   },
   "outputs": [
    {
     "data": {
      "text/plain": [
       "(13685,)"
      ]
     },
     "execution_count": 35,
     "metadata": {},
     "output_type": "execute_result"
    }
   ],
   "source": [
    "y_log_no_out.shape"
   ]
  },
  {
   "cell_type": "code",
   "execution_count": 37,
   "metadata": {
    "ExecuteTime": {
     "end_time": "2020-07-17T20:22:02.174130Z",
     "start_time": "2020-07-17T20:22:02.150220Z"
    }
   },
   "outputs": [
    {
     "name": "stdout",
     "output_type": "stream",
     "text": [
      "0.6823485854923232\n"
     ]
    }
   ],
   "source": [
    "linreg_log_no_out = LinearRegression(fit_intercept = False)\n",
    "linreg_log_no_out.fit(X_log_no_out, y_log_no_out)\n",
    "print(linreg_log_no_out.score(X_log_no_out, y_log_no_out))"
   ]
  },
  {
   "cell_type": "code",
   "execution_count": 38,
   "metadata": {
    "ExecuteTime": {
     "end_time": "2020-07-17T20:22:28.827527Z",
     "start_time": "2020-07-17T20:22:28.822547Z"
    }
   },
   "outputs": [
    {
     "data": {
      "text/plain": [
       "array([439216.77615932, 475360.56319595, 212820.762788  , ...,\n",
       "       393656.34497799, 266514.81428661, 285307.06604474])"
      ]
     },
     "execution_count": 38,
     "metadata": {},
     "output_type": "execute_result"
    }
   ],
   "source": [
    "y_predicted_log_no_out = linreg_log_no_out.predict(X_log_no_out)\n",
    "y_predicted_log_no_out"
   ]
  },
  {
   "cell_type": "code",
   "execution_count": 39,
   "metadata": {
    "ExecuteTime": {
     "end_time": "2020-07-17T20:22:57.825724Z",
     "start_time": "2020-07-17T20:22:57.800179Z"
    }
   },
   "outputs": [
    {
     "data": {
      "text/plain": [
       "-12.616309056366786"
      ]
     },
     "execution_count": 39,
     "metadata": {},
     "output_type": "execute_result"
    }
   ],
   "source": [
    "residuals_log_no_out = y_log_no_out - y_predicted_log_no_out\n",
    "residuals_log_no_out.mean()"
   ]
  },
  {
   "cell_type": "code",
   "execution_count": 40,
   "metadata": {
    "ExecuteTime": {
     "end_time": "2020-07-17T20:23:11.490241Z",
     "start_time": "2020-07-17T20:23:11.079495Z"
    }
   },
   "outputs": [
    {
     "data": {
      "image/png": "[encoded data removed]",
      "text/plain": [
       "<Figure size 432x288 with 1 Axes>"
      ]
     },
     "metadata": {
      "needs_background": "light"
     },
     "output_type": "display_data"
    }
   ],
   "source": [
    "_ = probplot(residuals_log_no_out, plot=plt)"
   ]
  },
  {
   "cell_type": "code",
   "execution_count": null,
   "metadata": {},
   "outputs": [],
   "source": []
  }
 ],
 "metadata": {
  "kernelspec": {
   "display_name": "Python 3",
   "language": "python",
   "name": "python3"
  },
  "language_info": {
   "codemirror_mode": {
    "name": "ipython",
    "version": 3
   },
   "file_extension": ".py",
   "mimetype": "text/x-python",
   "name": "python",
   "nbconvert_exporter": "python",
   "pygments_lexer": "ipython3",
   "version": "3.7.3"
  },
  "toc": {
   "base_numbering": 1,
   "nav_menu": {},
   "number_sections": true,
   "sideBar": true,
   "skip_h1_title": false,
   "title_cell": "Table of Contents",
   "title_sidebar": "Contents",
   "toc_cell": false,
   "toc_position": {},
   "toc_section_display": true,
   "toc_window_display": false
  },
  "varInspector": {
   "cols": {
    "lenName": 16,
    "lenType": 16,
    "lenVar": 40
   },
   "kernels_config": {
    "python": {
     "delete_cmd_postfix": "",
     "delete_cmd_prefix": "del ",
     "library": "var_list.py",
     "varRefreshCmd": "print(var_dic_list())"
    },
    "r": {
     "delete_cmd_postfix": ") ",
     "delete_cmd_prefix": "rm(",
     "library": "var_list.r",
     "varRefreshCmd": "cat(var_dic_list()) "
    }
   },
   "types_to_exclude": [
    "module",
    "function",
    "builtin_function_or_method",
    "instance",
    "_Feature"
   ],
   "window_display": false
  }
 },
 "nbformat": 4,
 "nbformat_minor": 2
}
